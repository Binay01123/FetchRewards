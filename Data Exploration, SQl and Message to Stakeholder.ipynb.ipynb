{
 "cells": [
  {
   "cell_type": "markdown",
   "metadata": {},
   "source": [
    "# Fetch Rewards Data Analyst Assesment\n"
   ]
  },
  {
   "cell_type": "markdown",
   "metadata": {},
   "source": [
    "In this notebook, I arranged reciepts.json, brands.json and users.json files into tabular dataframe. After thorough analysis, I've identified few data quality issues that is worth consulting with business stakeholders. In addition, I've also analyzed \"  average spend from receipts with 'rewardsReceiptStatus’ of ‘Accepted’ or ‘Rejected’\" using T-SQL. Please refer to the scripts below. "
   ]
  },
  {
   "cell_type": "code",
   "execution_count": 1,
   "metadata": {},
   "outputs": [],
   "source": [
    "import numpy as np\n",
    "import pandas as pd\n",
    "import json\n",
    "import matplotlib.pyplot as plt\n",
    "from datetime import datetime"
   ]
  },
  {
   "cell_type": "markdown",
   "metadata": {},
   "source": [
    "# Receipts Schema\n"
   ]
  },
  {
   "cell_type": "code",
   "execution_count": 4,
   "metadata": {},
   "outputs": [],
   "source": [
    "# parse receipts file to dataframe\n",
    "receipts = pd.read_json('receipts.json', lines=True)\n",
    "#display(receipts)"
   ]
  },
  {
   "cell_type": "code",
   "execution_count": 5,
   "metadata": {},
   "outputs": [],
   "source": [
    "# extract the obejct ID from the _id column\n",
    "receipts['_id'] = receipts['_id'].apply(lambda x: x['$oid'])\n",
    "\n",
    "#function to change the unix Epoch milliseconds time to datetime\n",
    "def convert_datetime(df, col):\n",
    "  ans=[]\n",
    "  for x in df[col].values:\n",
    "    if type(x) == float:\n",
    "      ans.append(np.nan)\n",
    "    else:\n",
    "      # assuming the datetime is in milliseconds\n",
    "      ans.append(pd.to_datetime(datetime.fromtimestamp(x['$date'] // 1000)))\n",
    "  df[col] = ans\n",
    "  return df\n",
    "\n",
    "# list of columns with date\n",
    "date_cols = ['createDate', 'dateScanned', 'finishedDate',\n",
    "             'modifyDate', 'pointsAwardedDate', 'purchaseDate']\n",
    "\n",
    "# loop over the datetime columns\n",
    "for col in date_cols:\n",
    "  receipts = convert_datetime(receipts, col)"
   ]
  },
  {
   "cell_type": "code",
   "execution_count": 8,
   "metadata": {},
   "outputs": [],
   "source": [
    "#extract the Receipt Item lists table from Receipts\n",
    "# generate the items table by examing the rewardsReceiptItemList in receipts data\n",
    "item = pd.DataFrame()\n",
    "item['oid'] = ''\n",
    "id=[]\n",
    "\n",
    "for i in range(len(receipts['rewardsReceiptItemList'])):\n",
    "  x = receipts['rewardsReceiptItemList'].iloc[i]\n",
    "  if type(x) != float:\n",
    "    for y in x:\n",
    "      item = pd.concat([item, pd.DataFrame.from_dict(y, orient='index').transpose()])\n",
    "      item['oid'] = item['oid'].fillna(receipts.iloc[i]['_id'])"
   ]
  },
  {
   "cell_type": "code",
   "execution_count": 11,
   "metadata": {},
   "outputs": [],
   "source": [
    "#display(item)"
   ]
  },
  {
   "cell_type": "markdown",
   "metadata": {},
   "source": [
    "# Users Schema\n"
   ]
  },
  {
   "cell_type": "code",
   "execution_count": 12,
   "metadata": {},
   "outputs": [],
   "source": [
    "# Parse users file\n",
    "users = pd.read_json('users.json', lines=True)\n",
    "\n",
    "# extract the id from the object\n",
    "users['_id'] = users['_id'].apply(lambda x: x['$oid'])\n",
    "\n",
    "# Format the date columns\n",
    "date_cols = ['createdDate', 'lastLogin']\n",
    "for col in date_cols:\n",
    "  users = convert_datetime(users, col)"
   ]
  },
  {
   "cell_type": "code",
   "execution_count": 13,
   "metadata": {},
   "outputs": [
    {
     "data": {
      "text/html": [
       "<div>\n",
       "<style scoped>\n",
       "    .dataframe tbody tr th:only-of-type {\n",
       "        vertical-align: middle;\n",
       "    }\n",
       "\n",
       "    .dataframe tbody tr th {\n",
       "        vertical-align: top;\n",
       "    }\n",
       "\n",
       "    .dataframe thead th {\n",
       "        text-align: right;\n",
       "    }\n",
       "</style>\n",
       "<table border=\"1\" class=\"dataframe\">\n",
       "  <thead>\n",
       "    <tr style=\"text-align: right;\">\n",
       "      <th></th>\n",
       "      <th>_id</th>\n",
       "      <th>active</th>\n",
       "      <th>createdDate</th>\n",
       "      <th>lastLogin</th>\n",
       "      <th>role</th>\n",
       "      <th>signUpSource</th>\n",
       "      <th>state</th>\n",
       "    </tr>\n",
       "  </thead>\n",
       "  <tbody>\n",
       "    <tr>\n",
       "      <th>0</th>\n",
       "      <td>5ff1e194b6a9d73a3a9f1052</td>\n",
       "      <td>True</td>\n",
       "      <td>2021-01-03 09:24:04</td>\n",
       "      <td>2021-01-03 09:25:37</td>\n",
       "      <td>consumer</td>\n",
       "      <td>Email</td>\n",
       "      <td>WI</td>\n",
       "    </tr>\n",
       "    <tr>\n",
       "      <th>1</th>\n",
       "      <td>5ff1e194b6a9d73a3a9f1052</td>\n",
       "      <td>True</td>\n",
       "      <td>2021-01-03 09:24:04</td>\n",
       "      <td>2021-01-03 09:25:37</td>\n",
       "      <td>consumer</td>\n",
       "      <td>Email</td>\n",
       "      <td>WI</td>\n",
       "    </tr>\n",
       "    <tr>\n",
       "      <th>2</th>\n",
       "      <td>5ff1e194b6a9d73a3a9f1052</td>\n",
       "      <td>True</td>\n",
       "      <td>2021-01-03 09:24:04</td>\n",
       "      <td>2021-01-03 09:25:37</td>\n",
       "      <td>consumer</td>\n",
       "      <td>Email</td>\n",
       "      <td>WI</td>\n",
       "    </tr>\n",
       "    <tr>\n",
       "      <th>3</th>\n",
       "      <td>5ff1e1eacfcf6c399c274ae6</td>\n",
       "      <td>True</td>\n",
       "      <td>2021-01-03 09:25:30</td>\n",
       "      <td>2021-01-03 09:25:30</td>\n",
       "      <td>consumer</td>\n",
       "      <td>Email</td>\n",
       "      <td>WI</td>\n",
       "    </tr>\n",
       "    <tr>\n",
       "      <th>4</th>\n",
       "      <td>5ff1e194b6a9d73a3a9f1052</td>\n",
       "      <td>True</td>\n",
       "      <td>2021-01-03 09:24:04</td>\n",
       "      <td>2021-01-03 09:25:37</td>\n",
       "      <td>consumer</td>\n",
       "      <td>Email</td>\n",
       "      <td>WI</td>\n",
       "    </tr>\n",
       "    <tr>\n",
       "      <th>...</th>\n",
       "      <td>...</td>\n",
       "      <td>...</td>\n",
       "      <td>...</td>\n",
       "      <td>...</td>\n",
       "      <td>...</td>\n",
       "      <td>...</td>\n",
       "      <td>...</td>\n",
       "    </tr>\n",
       "    <tr>\n",
       "      <th>490</th>\n",
       "      <td>54943462e4b07e684157a532</td>\n",
       "      <td>True</td>\n",
       "      <td>2014-12-19 08:21:22</td>\n",
       "      <td>2021-03-05 10:52:23</td>\n",
       "      <td>fetch-staff</td>\n",
       "      <td>NaN</td>\n",
       "      <td>NaN</td>\n",
       "    </tr>\n",
       "    <tr>\n",
       "      <th>491</th>\n",
       "      <td>54943462e4b07e684157a532</td>\n",
       "      <td>True</td>\n",
       "      <td>2014-12-19 08:21:22</td>\n",
       "      <td>2021-03-05 10:52:23</td>\n",
       "      <td>fetch-staff</td>\n",
       "      <td>NaN</td>\n",
       "      <td>NaN</td>\n",
       "    </tr>\n",
       "    <tr>\n",
       "      <th>492</th>\n",
       "      <td>54943462e4b07e684157a532</td>\n",
       "      <td>True</td>\n",
       "      <td>2014-12-19 08:21:22</td>\n",
       "      <td>2021-03-05 10:52:23</td>\n",
       "      <td>fetch-staff</td>\n",
       "      <td>NaN</td>\n",
       "      <td>NaN</td>\n",
       "    </tr>\n",
       "    <tr>\n",
       "      <th>493</th>\n",
       "      <td>54943462e4b07e684157a532</td>\n",
       "      <td>True</td>\n",
       "      <td>2014-12-19 08:21:22</td>\n",
       "      <td>2021-03-05 10:52:23</td>\n",
       "      <td>fetch-staff</td>\n",
       "      <td>NaN</td>\n",
       "      <td>NaN</td>\n",
       "    </tr>\n",
       "    <tr>\n",
       "      <th>494</th>\n",
       "      <td>54943462e4b07e684157a532</td>\n",
       "      <td>True</td>\n",
       "      <td>2014-12-19 08:21:22</td>\n",
       "      <td>2021-03-05 10:52:23</td>\n",
       "      <td>fetch-staff</td>\n",
       "      <td>NaN</td>\n",
       "      <td>NaN</td>\n",
       "    </tr>\n",
       "  </tbody>\n",
       "</table>\n",
       "<p>495 rows × 7 columns</p>\n",
       "</div>"
      ],
      "text/plain": [
       "                          _id  active         createdDate           lastLogin  \\\n",
       "0    5ff1e194b6a9d73a3a9f1052    True 2021-01-03 09:24:04 2021-01-03 09:25:37   \n",
       "1    5ff1e194b6a9d73a3a9f1052    True 2021-01-03 09:24:04 2021-01-03 09:25:37   \n",
       "2    5ff1e194b6a9d73a3a9f1052    True 2021-01-03 09:24:04 2021-01-03 09:25:37   \n",
       "3    5ff1e1eacfcf6c399c274ae6    True 2021-01-03 09:25:30 2021-01-03 09:25:30   \n",
       "4    5ff1e194b6a9d73a3a9f1052    True 2021-01-03 09:24:04 2021-01-03 09:25:37   \n",
       "..                        ...     ...                 ...                 ...   \n",
       "490  54943462e4b07e684157a532    True 2014-12-19 08:21:22 2021-03-05 10:52:23   \n",
       "491  54943462e4b07e684157a532    True 2014-12-19 08:21:22 2021-03-05 10:52:23   \n",
       "492  54943462e4b07e684157a532    True 2014-12-19 08:21:22 2021-03-05 10:52:23   \n",
       "493  54943462e4b07e684157a532    True 2014-12-19 08:21:22 2021-03-05 10:52:23   \n",
       "494  54943462e4b07e684157a532    True 2014-12-19 08:21:22 2021-03-05 10:52:23   \n",
       "\n",
       "            role signUpSource state  \n",
       "0       consumer        Email    WI  \n",
       "1       consumer        Email    WI  \n",
       "2       consumer        Email    WI  \n",
       "3       consumer        Email    WI  \n",
       "4       consumer        Email    WI  \n",
       "..           ...          ...   ...  \n",
       "490  fetch-staff          NaN   NaN  \n",
       "491  fetch-staff          NaN   NaN  \n",
       "492  fetch-staff          NaN   NaN  \n",
       "493  fetch-staff          NaN   NaN  \n",
       "494  fetch-staff          NaN   NaN  \n",
       "\n",
       "[495 rows x 7 columns]"
      ]
     },
     "metadata": {},
     "output_type": "display_data"
    }
   ],
   "source": [
    "display(users)"
   ]
  },
  {
   "cell_type": "markdown",
   "metadata": {},
   "source": [
    "# BRANDS SCHEMA"
   ]
  },
  {
   "cell_type": "code",
   "execution_count": 15,
   "metadata": {},
   "outputs": [],
   "source": [
    "#parse brands file\n",
    "brands = pd.read_json('brands.json', lines=True)\n",
    "\n",
    "# extract Id from the object ID\n",
    "brands['_id'] = brands['_id'].apply(lambda x: x['$oid'])"
   ]
  },
  {
   "cell_type": "code",
   "execution_count": 16,
   "metadata": {},
   "outputs": [],
   "source": [
    "#extrancting oid and ref from cpg column\n",
    "cpg = pd.DataFrame()\n",
    "id=[]\n",
    "oid=[]\n",
    "ref=[]\n",
    "\n",
    "for i in range(len(brands['cpg'])):\n",
    "  x = brands['cpg'].iloc[i]\n",
    "  if type(x) != float:\n",
    "      oid.append(brands['cpg'][i]['$id']['$oid'])\n",
    "      ref.append(brands['cpg'][i]['$ref'])\n",
    "      id.append(brands.iloc[i]['_id'])\n",
    "\n",
    "cpg['id'] = id\n",
    "cpg['oid'] = oid\n",
    "cpg['ref'] = ref\n",
    "\n",
    "#merging it back to brands dataframe\n",
    "brands = brands.merge(cpg, left_on='_id', right_on='id', how='left').drop('id', axis=1)\n"
   ]
  },
  {
   "cell_type": "code",
   "execution_count": 19,
   "metadata": {},
   "outputs": [],
   "source": [
    "#display(brands)"
   ]
  },
  {
   "cell_type": "markdown",
   "metadata": {},
   "source": [
    "# Data Quality Exploration and Evaluation"
   ]
  },
  {
   "cell_type": "markdown",
   "metadata": {},
   "source": [
    "Here I examined the missing values and distribution of rewards points."
   ]
  },
  {
   "cell_type": "code",
   "execution_count": 21,
   "metadata": {},
   "outputs": [
    {
     "data": {
      "image/png": "[encoded data removed]",
      "text/plain": [
       "<Figure size 432x432 with 1 Axes>"
      ]
     },
     "metadata": {
      "needs_background": "light"
     },
     "output_type": "display_data"
    },
    {
     "data": {
      "image/png": "[encoded data removed]",
      "text/plain": [
       "<Figure size 432x432 with 1 Axes>"
      ]
     },
     "metadata": {
      "needs_background": "light"
     },
     "output_type": "display_data"
    },
    {
     "data": {
      "image/png": "[encoded data removed]",
      "text/plain": [
       "<Figure size 432x432 with 1 Axes>"
      ]
     },
     "metadata": {
      "needs_background": "light"
     },
     "output_type": "display_data"
    },
    {
     "data": {
      "image/png": "[encoded data removed]",
      "text/plain": [
       "<Figure size 432x432 with 1 Axes>"
      ]
     },
     "metadata": {
      "needs_background": "light"
     },
     "output_type": "display_data"
    }
   ],
   "source": [
    "# function for perctange of missing values\n",
    "def get_null_percentage(df):\n",
    "  df_null_count = df.isnull().sum().sort_values(ascending=True)\n",
    "  df_null_percent = round(df_null_count/len(df) * 100, 2)\n",
    "  return df_null_percent\n",
    "\n",
    "# Function to generate plots for null percentage\n",
    "def null_percent_plot(df, cutoff, plot_width, plot_height):\n",
    "  df_null_percent = get_null_percentage(df)\n",
    "\n",
    "  # plots for count of missing values\n",
    "  plt.figure(figsize=(plot_width, plot_height))\n",
    "  df_null_percent.plot(kind='barh')\n",
    "  plt.xlabel(\"Null Percentage\")\n",
    "  plt.ylabel(\"Data Columns\")\n",
    "  plt.title(\"Null percentage\")\n",
    "  plt.axvline(x=cutoff, color='red')\n",
    "  plt.show()\n",
    "\n",
    "for df in [receipts, item, users, brands]:\n",
    "  null_percent_plot(df, 60, 6, 6)\n"
   ]
  },
  {
   "cell_type": "markdown",
   "metadata": {},
   "source": [
    "Here, one of the issue with the given data is significant numbers of missing values. This leads to two problem\n",
    "1) It is insufficient to drive insights from so many incomplete data for business decision.\n",
    "2) In relational database, joining in two table with such null values leads to incomplete information. \n"
   ]
  },
  {
   "cell_type": "markdown",
   "metadata": {},
   "source": [
    "# T-SQL Syntax"
   ]
  },
  {
   "cell_type": "markdown",
   "metadata": {},
   "source": [
    "Here, I utilized common Table expression (CTE) to determine \"average spend from receipts with 'rewardsReceiptStatus’ of ‘Accepted’ or ‘Rejected’\" to identify which one is greater\n"
   ]
  },
  {
   "cell_type": "code",
   "execution_count": null,
   "metadata": {},
   "outputs": [],
   "source": [
    "WITH ReceiptExpenses as (\n",
    "\n",
    "SELECT\n",
    "    totalSpent,\n",
    "    rewardsReceiptStatus,\n",
    "    pointsEarned\n",
    "\n",
    "FROM RECEIPTS\n",
    "WHERE YEAR(dateScanned) > 1970\n",
    "\n",
    ")\n",
    "\n",
    "--Since \"REJECTED\" are explicity mentioned in the field unlike \"ACCEPTED\"\n",
    "--thus Assuming Those who are \"FINISHED\" with Earnedpoints are \"ACCEPTED\"\n",
    "\n",
    "SELECT\n",
    "(SELECT AVG(totalspent) FROM ReceiptExpenses WHERE rewardsReceiptStatus = 'REJECTED') as  AvgRejectedExpenses,\n",
    "(SELECT AVG(totalspent) FROM ReceiptExpenses WHERE rewardsReceiptStatus = 'FINISHED' AND pointsEarned > 0) as AvgAcceptedExpenses\n",
    "FROM ReceiptExpenses\n",
    "\n",
    "--This Way we can have both custom field with different criteria in 1 output with the help of Common Table Expression.\n"
   ]
  },
  {
   "cell_type": "markdown",
   "metadata": {},
   "source": [
    "# Message to Stakeholders"
   ]
  },
  {
   "cell_type": "markdown",
   "metadata": {},
   "source": [
    "Hello all,\n",
    "This is Binay. I've been working on the rewards data that I was given last week, and I wanted to give you all an update on my progress and get my questions clarified.\n",
    "\n",
    "There are some issues within the data that I would like to get some feedback on to make sure what I delivered would be of help:\n",
    "\n",
    "1. I've noticed accounts being earning up to 700 points despite being status as \"REJECTED\". Just wanted to make sure if it’s a  possible event, or incorrect information?\n",
    "\n",
    "2. There is significant amount of missing values in the dataset. For example, Barcode of the items which would make it difficult to associate it with brand through database relationship.\n",
    "\n",
    "3.\tSince the original data format is JSON and with the significant missing values, I believe NoSQL data storage would be efficient option. Once we let it mature out and determine what pre-specified columns we'd like to keep track of, then I believe we can transition to relational database if the business demands it in future.\n",
    "\n",
    "Let me know your thoughts. Happy to schedule a meeting to clarify these questions if you think a quick meeting would help.\n",
    "\n",
    "Looking forward to hear from you.\n",
    "\n",
    "Thanks,\n",
    "Binay\n"
   ]
  }
 ],
 "metadata": {
  "kernelspec": {
   "display_name": "Python 3",
   "language": "python",
   "name": "python3"
  },
  "language_info": {
   "codemirror_mode": {
    "name": "ipython",
    "version": 3
   },
   "file_extension": ".py",
   "mimetype": "text/x-python",
   "name": "python",
   "nbconvert_exporter": "python",
   "pygments_lexer": "ipython3",
   "version": "3.8.5"
  }
 },
 "nbformat": 4,
 "nbformat_minor": 4
}
